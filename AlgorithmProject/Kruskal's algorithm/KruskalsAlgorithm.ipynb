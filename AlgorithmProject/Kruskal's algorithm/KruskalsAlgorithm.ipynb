{
 "cells": [
  {
   "cell_type": "code",
   "execution_count": 2,
   "id": "6f1be234-99a1-4249-b784-aafebc3bed08",
   "metadata": {},
   "outputs": [],
   "source": [
    "class DisjointSet:\n",
    "    def __init__(self, n):\n",
    "        self.parent = list(range(n))\n",
    "        self.rank = [0] * n\n",
    "\n",
    "    def find(self, u):\n",
    "        if self.parent[u] != u:\n",
    "            self.parent[u] = self.find(self.parent[u])  # Path compression\n",
    "        return self.parent[u]\n",
    "\n",
    "    def union(self, u, v):\n",
    "        root_u = self.find(u)\n",
    "        root_v = self.find(v)\n",
    "        \n",
    "        if root_u != root_v:\n",
    "            # Union by rank\n",
    "            if self.rank[root_u] > self.rank[root_v]:\n",
    "                self.parent[root_v] = root_u\n",
    "            elif self.rank[root_u] < self.rank[root_v]:\n",
    "                self.parent[root_u] = root_v\n",
    "            else:\n",
    "                self.parent[root_v] = root_u\n",
    "                self.rank[root_u] += 1\n",
    "\n",
    "\n"
   ]
  },
  {
   "cell_type": "code",
   "execution_count": 3,
   "id": "29e392e4-3077-4860-8269-19b37d8abde3",
   "metadata": {},
   "outputs": [],
   "source": [
    "def kruskal(n, edges):\n",
    "    # Sort edges by weight\n",
    "    edges.sort(key=lambda x: x[2])  # (u, v, weight)\n",
    "    mst = []\n",
    "    ds = DisjointSet(n)\n",
    "    \n",
    "    for u, v, weight in edges:\n",
    "        if ds.find(u) != ds.find(v):\n",
    "            ds.union(u, v)\n",
    "            mst.append((u, v, weight))\n",
    "    \n",
    "    return mst"
   ]
  },
  {
   "cell_type": "code",
   "execution_count": 4,
   "id": "41730a1b-8f97-4f89-8a53-1d128f9ea725",
   "metadata": {},
   "outputs": [
    {
     "name": "stdout",
     "output_type": "stream",
     "text": [
      "Edges in MST: [(2, 3, 4), (0, 3, 5), (0, 1, 10)]\n"
     ]
    }
   ],
   "source": [
    "# Example usage\n",
    "edges = [(0, 1, 10), (0, 2, 6), (0, 3, 5), (1, 3, 15), (2, 3, 4)]\n",
    "n = 4  # Number of vertices\n",
    "mst = kruskal(n, edges)\n",
    "print(\"Edges in MST:\", mst)\n"
   ]
  }
 ],
 "metadata": {
  "kernelspec": {
   "display_name": "Python 3 (ipykernel)",
   "language": "python",
   "name": "python3"
  },
  "language_info": {
   "codemirror_mode": {
    "name": "ipython",
    "version": 3
   },
   "file_extension": ".py",
   "mimetype": "text/x-python",
   "name": "python",
   "nbconvert_exporter": "python",
   "pygments_lexer": "ipython3",
   "version": "3.12.0"
  }
 },
 "nbformat": 4,
 "nbformat_minor": 5
}
