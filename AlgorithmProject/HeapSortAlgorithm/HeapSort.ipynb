{
 "cells": [
  {
   "cell_type": "code",
   "execution_count": 1,
   "id": "2164706f-55dd-4b1e-abb6-5ca2d9b0f3fe",
   "metadata": {},
   "outputs": [],
   "source": [
    "def heapify(arr, n, i):\n",
    "    largest = i\n",
    "    left = 2 * i + 1\n",
    "    right = 2 * i + 2\n",
    "\n",
    "    if left < n and arr[left] > arr[largest]:\n",
    "        largest = left\n",
    "\n",
    "    if right < n and arr[right] > arr[largest]:\n",
    "        largest = right\n",
    "\n",
    "    if largest != i:\n",
    "        arr[i], arr[largest] = arr[largest], arr[i]\n",
    "        heapify(arr, n, largest)\n"
   ]
  },
  {
   "cell_type": "code",
   "execution_count": 2,
   "id": "876707cc-beaf-4da6-8f95-542577d41c50",
   "metadata": {},
   "outputs": [],
   "source": [
    "def build_max_heap(arr):\n",
    "    n = len(arr)\n",
    "    for i in range(n // 2 - 1, -1, -1):\n",
    "        heapify(arr, n, i)\n"
   ]
  },
  {
   "cell_type": "code",
   "execution_count": 3,
   "id": "024423a3-a83a-45c0-b995-c1e0d4ea3be9",
   "metadata": {},
   "outputs": [],
   "source": [
    "def heapsort(arr):\n",
    "    n = len(arr)\n",
    "    build_max_heap(arr)\n",
    "    for i in range(n - 1, 0, -1):\n",
    "        arr[i], arr[0] = arr[0], arr[i]\n",
    "        heapify(arr, i, 0)\n"
   ]
  },
  {
   "cell_type": "code",
   "execution_count": 4,
   "id": "37a560c7-8439-4747-9850-3f7d8ca6aa76",
   "metadata": {},
   "outputs": [
    {
     "name": "stdout",
     "output_type": "stream",
     "text": [
      "Original array: [12, 11, 13, 5, 6, 7]\n",
      "Sorted array: [5, 6, 7, 11, 12, 13]\n"
     ]
    }
   ],
   "source": [
    "# Example usage:\n",
    "arr = [12, 11, 13, 5, 6, 7]\n",
    "print(\"Original array:\", arr)\n",
    "heapsort(arr)\n",
    "print(\"Sorted array:\", arr)\n"
   ]
  }
 ],
 "metadata": {
  "kernelspec": {
   "display_name": "Python 3 (ipykernel)",
   "language": "python",
   "name": "python3"
  },
  "language_info": {
   "codemirror_mode": {
    "name": "ipython",
    "version": 3
   },
   "file_extension": ".py",
   "mimetype": "text/x-python",
   "name": "python",
   "nbconvert_exporter": "python",
   "pygments_lexer": "ipython3",
   "version": "3.12.0"
  }
 },
 "nbformat": 4,
 "nbformat_minor": 5
}
